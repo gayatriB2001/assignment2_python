{
 "cells": [
  {
   "cell_type": "code",
   "execution_count": null,
   "id": "f5b8b61d",
   "metadata": {},
   "outputs": [],
   "source": [
    "Que:1)"
   ]
  },
  {
   "cell_type": "markdown",
   "id": "536e6361",
   "metadata": {},
   "source": [
    "1)What is difference between set and dictionary,explain with example"
   ]
  },
  {
   "cell_type": "code",
   "execution_count": 1,
   "id": "b26b2a96",
   "metadata": {},
   "outputs": [
    {
     "data": {
      "text/plain": [
       "{1, 2, 3, 4, 5}"
      ]
     },
     "execution_count": 1,
     "metadata": {},
     "output_type": "execute_result"
    }
   ],
   "source": [
    "#ans: \n",
    "set1 = {1,2,3,4,5}\n",
    "set1"
   ]
  },
  {
   "cell_type": "code",
   "execution_count": 3,
   "id": "5c02873a",
   "metadata": {},
   "outputs": [
    {
     "data": {
      "text/plain": [
       "{1: 'a', 2: 'b', 3: 'c'}"
      ]
     },
     "execution_count": 3,
     "metadata": {},
     "output_type": "execute_result"
    }
   ],
   "source": [
    "dict1 = {1:'a',2:\"b\",3:'c'}   #having key:value pair\n",
    "dict1"
   ]
  },
  {
   "cell_type": "markdown",
   "id": "055ca962",
   "metadata": {},
   "source": [
    "2) write a program to print following pattern:\n",
    "    *\n",
    "    **\n",
    "    ***"
   ]
  },
  {
   "cell_type": "code",
   "execution_count": 6,
   "id": "6aababe0",
   "metadata": {},
   "outputs": [
    {
     "name": "stdout",
     "output_type": "stream",
     "text": [
      "*\n",
      "**\n",
      "***\n"
     ]
    }
   ],
   "source": [
    "#ans:\n",
    "for i in range(3):\n",
    "    for j in range(i+1):\n",
    "        print(\"*\",end =\"\")\n",
    "    print()"
   ]
  },
  {
   "cell_type": "markdown",
   "id": "114aac74",
   "metadata": {},
   "source": [
    "3)write program to print n natural numbers inascending order using while loop"
   ]
  },
  {
   "cell_type": "code",
   "execution_count": 12,
   "id": "2b18fbe8",
   "metadata": {},
   "outputs": [
    {
     "name": "stdout",
     "output_type": "stream",
     "text": [
      "enter number: 3\n",
      "0\n",
      "1\n",
      "2\n",
      "3\n"
     ]
    }
   ],
   "source": [
    "#ans :\n",
    "n = int(input(\"enter number: \"))\n",
    "i=0\n",
    "while(i<=n):\n",
    "    print(i)\n",
    "    i=i+1"
   ]
  },
  {
   "cell_type": "markdown",
   "id": "a6ccd17a",
   "metadata": {},
   "source": [
    "4)write a program in swap 2 variables  without  using  third variable"
   ]
  },
  {
   "cell_type": "code",
   "execution_count": null,
   "id": "bde6b55d",
   "metadata": {},
   "outputs": [],
   "source": [
    "#ans:\n",
    "# swapping\n",
    "a,b=5,23\n",
    "a,b=b,a\n",
    "print(a,b)\n"
   ]
  },
  {
   "cell_type": "markdown",
   "id": "51b3b51c",
   "metadata": {},
   "source": [
    "5)how to create a function with default arguments in python "
   ]
  },
  {
   "cell_type": "code",
   "execution_count": 15,
   "id": "70cd2223",
   "metadata": {},
   "outputs": [
    {
     "name": "stdout",
     "output_type": "stream",
     "text": [
      "num1: 20 num2: 50\n",
      "num1: 10 num2: 50\n"
     ]
    }
   ],
   "source": [
    "#ans:\n",
    "def number(num1=10,num2=50):\n",
    "    print('num1:',num1,\"num2:\",num2)\n",
    "    \n",
    "number(20)\n",
    "number()"
   ]
  },
  {
   "cell_type": "markdown",
   "id": "49c04c57",
   "metadata": {},
   "source": [
    "6)display a square of numbers from 1 to 10 using ist comprehension"
   ]
  },
  {
   "cell_type": "code",
   "execution_count": 16,
   "id": "4ee003f0",
   "metadata": {},
   "outputs": [
    {
     "data": {
      "text/plain": [
       "[1, 4, 9, 16, 25, 36, 49, 64, 81, 100]"
      ]
     },
     "execution_count": 16,
     "metadata": {},
     "output_type": "execute_result"
    }
   ],
   "source": [
    "#ans:\n",
    "li = [i*i for i in range(1,11)]   \n",
    "li"
   ]
  },
  {
   "cell_type": "markdown",
   "id": "b168f2a3",
   "metadata": {},
   "source": [
    "7)what is polymorphism?explain with example(class)"
   ]
  },
  {
   "cell_type": "code",
   "execution_count": 19,
   "id": "52580267",
   "metadata": {},
   "outputs": [
    {
     "data": {
      "text/plain": [
       "('square ', 4)"
      ]
     },
     "execution_count": 19,
     "metadata": {},
     "output_type": "execute_result"
    }
   ],
   "source": [
    "#method overriding \n",
    "class rectangle:\n",
    "    def area(self,l,b):\n",
    "        return \"rectangle \",l*b\n",
    "    def area (self,s):\n",
    "        return \"square \",s**2\n",
    "obj = rectangle()\n",
    "obj.area(2)"
   ]
  },
  {
   "cell_type": "markdown",
   "id": "b094e360",
   "metadata": {},
   "source": [
    "8)explain conditional probability with example?"
   ]
  },
  {
   "cell_type": "code",
   "execution_count": null,
   "id": "ef875586",
   "metadata": {},
   "outputs": [],
   "source": [
    "#ans: probability of one event happening is conditional on happening of another event\n",
    "ex: Probability of getting 4 and given that draw a black card is\n",
    "    p(4/black) = 2/26 = 1/13\n",
    "    means there are 2 four cards out of 26 black cards"
   ]
  },
  {
   "cell_type": "markdown",
   "id": "b6187512",
   "metadata": {},
   "source": [
    "9)explain empirical rule with diagram."
   ]
  },
  {
   "cell_type": "code",
   "execution_count": null,
   "id": "39abce0f",
   "metadata": {},
   "outputs": [],
   "source": [
    "ans: it is 68%-95%-99.7 Rule.\n",
    "In normal distribution, 68% observations falls between +/-1 standard deviation from the mean,\n",
    "95% observations falls between +/-2 standard deviation from the mean and 99.7% observations falls \n",
    "between +/-3 standard deviation from the mean "
   ]
  },
  {
   "cell_type": "markdown",
   "id": "705651ae",
   "metadata": {},
   "source": [
    "10)what is hypothesis testing?what is role of p value in HT?"
   ]
  },
  {
   "cell_type": "code",
   "execution_count": null,
   "id": "bd1912d3",
   "metadata": {},
   "outputs": [],
   "source": [
    "#ans:\n",
    "h0: he is driving a car\n",
    "h1: he is not driving a car\n",
    "\n",
    "p-value : 0.05(probablility of h0 is true)\n",
    "p-value < 0.05 then h0 is reject\n",
    "p-value > 0.05 then h0 is accepted(fail to reject)"
   ]
  },
  {
   "cell_type": "markdown",
   "id": "c933698c",
   "metadata": {},
   "source": [
    "Que2)List all the probability distributions with example"
   ]
  },
  {
   "cell_type": "code",
   "execution_count": 45,
   "id": "6b8cb987",
   "metadata": {},
   "outputs": [],
   "source": [
    "import numpy as np\n",
    "import matplotlib.pyplot as plt\n",
    "import seaborn as sns\n",
    "import scipy.stats as stats\n",
    "from scipy.stats import norm "
   ]
  },
  {
   "cell_type": "code",
   "execution_count": 40,
   "id": "180a5be0",
   "metadata": {},
   "outputs": [
    {
     "data": {
      "text/plain": [
       "0.009815328628645375"
      ]
     },
     "execution_count": 40,
     "metadata": {},
     "output_type": "execute_result"
    }
   ],
   "source": [
    "#1)Normal distribution : is bell - shaped, symmetric, mean ,median and mode same .\n",
    "stats.norm.cdf(0.250,loc = 0.285, scale = 0.015)"
   ]
  },
  {
   "cell_type": "code",
   "execution_count": 30,
   "id": "95f6f643",
   "metadata": {},
   "outputs": [
    {
     "data": {
      "text/plain": [
       "1.0"
      ]
     },
     "execution_count": 30,
     "metadata": {},
     "output_type": "execute_result"
    }
   ],
   "source": [
    "#2)uniform distribution : all the n number of possible outcomes of a uniform distribution are equal\n",
    "stats.uniform.cdf(x=30,loc=0,scale=1)"
   ]
  },
  {
   "cell_type": "code",
   "execution_count": 37,
   "id": "58abea0d",
   "metadata": {},
   "outputs": [
    {
     "data": {
      "text/plain": [
       "array([0.0078125, 0.0546875, 0.1640625, 0.2734375, 0.2734375, 0.1640625,\n",
       "       0.0546875, 0.0078125])"
      ]
     },
     "execution_count": 37,
     "metadata": {},
     "output_type": "execute_result"
    }
   ],
   "source": [
    "# 3)Binomial distribution : the binomial distribution with parameters n and p is the discrete probability distribution of the number of successes in a sequence of n independent experiments\n",
    "n = 7\n",
    "p = 0.5\n",
    "k = np.arange(0,8)\n",
    "k\n",
    "binomial = stats.binom.pmf(k,n,p)\n",
    "binomial"
   ]
  },
  {
   "cell_type": "code",
   "execution_count": 48,
   "id": "17845f37",
   "metadata": {},
   "outputs": [
    {
     "name": "stderr",
     "output_type": "stream",
     "text": [
      "C:\\Users\\DELL\\anaconda3\\lib\\site-packages\\seaborn\\distributions.py:2619: FutureWarning: `distplot` is a deprecated function and will be removed in a future version. Please adapt your code to use either `displot` (a figure-level function with similar flexibility) or `kdeplot` (an axes-level function for kernel density plots).\n",
      "  warnings.warn(msg, FutureWarning)\n"
     ]
    },
    {
     "data": {
      "image/png": "[encoded data removed]",
      "text/plain": [
       "<Figure size 800x500 with 1 Axes>"
      ]
     },
     "metadata": {},
     "output_type": "display_data"
    }
   ],
   "source": [
    "#4)exponential distribution : the amount of time until some specific event occurs. For example, time interval between call in call center\n",
    "\n",
    "exp = np.random.exponential(0.01,1000)\n",
    "plt.figure(figsize=(8,5))\n",
    "plt.title(\"Exponential Distribution\",fontsize =13)\n",
    "sns.distplot(exp,hist=False)\n",
    "plt.show()"
   ]
  },
  {
   "cell_type": "code",
   "execution_count": 43,
   "id": "f5c0d6f9",
   "metadata": {},
   "outputs": [
    {
     "data": {
      "text/plain": [
       "array([0.04978707, 0.14936121, 0.22404181, 0.22404181, 0.16803136,\n",
       "       0.10081881, 0.05040941, 0.02160403, 0.00810151, 0.0027005 ])"
      ]
     },
     "execution_count": 43,
     "metadata": {},
     "output_type": "execute_result"
    }
   ],
   "source": [
    "#5.poission distribution\n",
    "rate=3\n",
    "n=np.arange(0,10)\n",
    "p=stats.poisson.pmf(n,rate)\n",
    "p"
   ]
  },
  {
   "cell_type": "code",
   "execution_count": null,
   "id": "48c499e7",
   "metadata": {},
   "outputs": [],
   "source": []
  }
 ],
 "metadata": {
  "kernelspec": {
   "display_name": "Python 3 (ipykernel)",
   "language": "python",
   "name": "python3"
  },
  "language_info": {
   "codemirror_mode": {
    "name": "ipython",
    "version": 3
   },
   "file_extension": ".py",
   "mimetype": "text/x-python",
   "name": "python",
   "nbconvert_exporter": "python",
   "pygments_lexer": "ipython3",
   "version": "3.9.13"
  }
 },
 "nbformat": 4,
 "nbformat_minor": 5
}
